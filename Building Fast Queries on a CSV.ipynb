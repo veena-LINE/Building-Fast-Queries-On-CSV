{
 "cells": [
  {
   "cell_type": "markdown",
   "metadata": {},
   "source": [
    "# Buildling Fast Queries on a CSV (Performance Analysis)"
   ]
  },
  {
   "cell_type": "markdown",
   "metadata": {},
   "source": [
    "Data utilized in this analysis is adapted from [Laptop Prices dataset on Kaggle](https://www.kaggle.com/ionaskel/laptop-prices).\n",
    "<br>I will be performing time analysis of a better version of an algorithm with it's slower cousin for the following 3 case studies:\n",
    ">**|2|** [Querying laptop by its ID](#query-laptop-id)\n",
    "<br>**|3|** [Two-laptops promotion](#2laptops-promotion)\n",
    "<br>**|4|** [What laptops favor the budget?](#within-budget)"
   ]
  },
  {
   "cell_type": "markdown",
   "metadata": {},
   "source": [
    "## All imports"
   ]
  },
  {
   "cell_type": "code",
   "execution_count": 2,
   "metadata": {},
   "outputs": [],
   "source": [
    "import csv\n",
    "import chardet\n",
    "import pandas as pd\n",
    "import time\n",
    "import random\n",
    "import matplotlib.pyplot as plt\n",
    "%matplotlib inline\n"
   ]
  },
  {
   "cell_type": "markdown",
   "metadata": {},
   "source": [
    "## Determine file encoding"
   ]
  },
  {
   "cell_type": "code",
   "execution_count": 3,
   "metadata": {},
   "outputs": [
    {
     "name": "stdout",
     "output_type": "stream",
     "text": [
      "utf-8\n"
     ]
    }
   ],
   "source": [
    "file = \"laptops.csv\"\n",
    "encoding = \"\"\n",
    "\n",
    "with open(file, mode=\"rb\") as file:\n",
    "    raw_bytes = file.read()\n",
    "    encoding = chardet.detect(raw_bytes)['encoding']\n",
    "\n",
    "print(encoding)"
   ]
  },
  {
   "cell_type": "markdown",
   "metadata": {},
   "source": [
    "## Familiarize with Inventory"
   ]
  },
  {
   "cell_type": "code",
   "execution_count": 4,
   "metadata": {},
   "outputs": [
    {
     "name": "stdout",
     "output_type": "stream",
     "text": [
      "['Id', 'Company', 'Product', 'TypeName', 'Inches', 'ScreenResolution', 'Cpu', 'Ram', 'Memory', 'Gpu', 'OpSys', 'Weight', 'Price']\n"
     ]
    },
    {
     "data": {
      "text/html": [
       "<div>\n",
       "<style scoped>\n",
       "    .dataframe tbody tr th:only-of-type {\n",
       "        vertical-align: middle;\n",
       "    }\n",
       "\n",
       "    .dataframe tbody tr th {\n",
       "        vertical-align: top;\n",
       "    }\n",
       "\n",
       "    .dataframe thead th {\n",
       "        text-align: right;\n",
       "    }\n",
       "</style>\n",
       "<table border=\"1\" class=\"dataframe\">\n",
       "  <thead>\n",
       "    <tr style=\"text-align: right;\">\n",
       "      <th></th>\n",
       "      <th>0</th>\n",
       "      <th>1</th>\n",
       "      <th>2</th>\n",
       "      <th>3</th>\n",
       "      <th>4</th>\n",
       "      <th>5</th>\n",
       "      <th>6</th>\n",
       "      <th>7</th>\n",
       "      <th>8</th>\n",
       "      <th>9</th>\n",
       "      <th>10</th>\n",
       "      <th>11</th>\n",
       "      <th>12</th>\n",
       "    </tr>\n",
       "  </thead>\n",
       "  <tbody>\n",
       "    <tr>\n",
       "      <th>0</th>\n",
       "      <td>6571244</td>\n",
       "      <td>Apple</td>\n",
       "      <td>MacBook Pro</td>\n",
       "      <td>Ultrabook</td>\n",
       "      <td>13.3</td>\n",
       "      <td>IPS Panel Retina Display 2560x1600</td>\n",
       "      <td>Intel Core i5 2.3GHz</td>\n",
       "      <td>8GB</td>\n",
       "      <td>128GB SSD</td>\n",
       "      <td>Intel Iris Plus Graphics 640</td>\n",
       "      <td>macOS</td>\n",
       "      <td>1.37kg</td>\n",
       "      <td>1339</td>\n",
       "    </tr>\n",
       "    <tr>\n",
       "      <th>1</th>\n",
       "      <td>7287764</td>\n",
       "      <td>Apple</td>\n",
       "      <td>Macbook Air</td>\n",
       "      <td>Ultrabook</td>\n",
       "      <td>13.3</td>\n",
       "      <td>1440x900</td>\n",
       "      <td>Intel Core i5 1.8GHz</td>\n",
       "      <td>8GB</td>\n",
       "      <td>128GB Flash Storage</td>\n",
       "      <td>Intel HD Graphics 6000</td>\n",
       "      <td>macOS</td>\n",
       "      <td>1.34kg</td>\n",
       "      <td>898</td>\n",
       "    </tr>\n",
       "    <tr>\n",
       "      <th>2</th>\n",
       "      <td>3362737</td>\n",
       "      <td>HP</td>\n",
       "      <td>250 G6</td>\n",
       "      <td>Notebook</td>\n",
       "      <td>15.6</td>\n",
       "      <td>Full HD 1920x1080</td>\n",
       "      <td>Intel Core i5 7200U 2.5GHz</td>\n",
       "      <td>8GB</td>\n",
       "      <td>256GB SSD</td>\n",
       "      <td>Intel HD Graphics 620</td>\n",
       "      <td>No OS</td>\n",
       "      <td>1.86kg</td>\n",
       "      <td>575</td>\n",
       "    </tr>\n",
       "    <tr>\n",
       "      <th>3</th>\n",
       "      <td>9722156</td>\n",
       "      <td>Apple</td>\n",
       "      <td>MacBook Pro</td>\n",
       "      <td>Ultrabook</td>\n",
       "      <td>15.4</td>\n",
       "      <td>IPS Panel Retina Display 2880x1800</td>\n",
       "      <td>Intel Core i7 2.7GHz</td>\n",
       "      <td>16GB</td>\n",
       "      <td>512GB SSD</td>\n",
       "      <td>AMD Radeon Pro 455</td>\n",
       "      <td>macOS</td>\n",
       "      <td>1.83kg</td>\n",
       "      <td>2537</td>\n",
       "    </tr>\n",
       "  </tbody>\n",
       "</table>\n",
       "</div>"
      ],
      "text/plain": [
       "        0      1            2          3     4   \\\n",
       "0  6571244  Apple  MacBook Pro  Ultrabook  13.3   \n",
       "1  7287764  Apple  Macbook Air  Ultrabook  13.3   \n",
       "2  3362737     HP       250 G6   Notebook  15.6   \n",
       "3  9722156  Apple  MacBook Pro  Ultrabook  15.4   \n",
       "\n",
       "                                   5                           6     7   \\\n",
       "0  IPS Panel Retina Display 2560x1600        Intel Core i5 2.3GHz   8GB   \n",
       "1                            1440x900        Intel Core i5 1.8GHz   8GB   \n",
       "2                   Full HD 1920x1080  Intel Core i5 7200U 2.5GHz   8GB   \n",
       "3  IPS Panel Retina Display 2880x1800        Intel Core i7 2.7GHz  16GB   \n",
       "\n",
       "                    8                             9      10      11    12  \n",
       "0            128GB SSD  Intel Iris Plus Graphics 640  macOS  1.37kg  1339  \n",
       "1  128GB Flash Storage        Intel HD Graphics 6000  macOS  1.34kg   898  \n",
       "2            256GB SSD         Intel HD Graphics 620  No OS  1.86kg   575  \n",
       "3            512GB SSD            AMD Radeon Pro 455  macOS  1.83kg  2537  "
      ]
     },
     "execution_count": 4,
     "metadata": {},
     "output_type": "execute_result"
    }
   ],
   "source": [
    "with open(\"laptops.csv\", encoding=encoding, mode=\"r\") as file:\n",
    "    file_reader = csv.reader(file)\n",
    "    laptops = list(file_reader)\n",
    "\n",
    "header = laptops[0]\n",
    "rows = laptops[1:]\n",
    "\n",
    "print(header)\n",
    "pd.DataFrame(rows[:4])"
   ]
  },
  {
   "cell_type": "markdown",
   "metadata": {},
   "source": [
    "## De-allocate modules no longer necessary"
   ]
  },
  {
   "cell_type": "code",
   "execution_count": 5,
   "metadata": {},
   "outputs": [],
   "source": [
    "del pd"
   ]
  },
  {
   "cell_type": "markdown",
   "metadata": {},
   "source": [
    "<br><br>\n",
    "\n",
    "# Inventory Class for all your needs"
   ]
  },
  {
   "cell_type": "markdown",
   "metadata": {},
   "source": [
    "## |1| Detect encoding + Read inventory"
   ]
  },
  {
   "cell_type": "code",
   "execution_count": 6,
   "metadata": {},
   "outputs": [],
   "source": [
    "# v0.0\n",
    "class Inventory():\n",
    "    def __init__(self, csv_filename):\n",
    "        self.encoding = self.detect_encoding(csv_filename)\n",
    "        with open(csv_filename, encoding=self.encoding, mode=\"r\") as file:\n",
    "            file_reader = csv.reader(file)\n",
    "            laptops = list(file_reader)\n",
    "\n",
    "        self.header = laptops[0]\n",
    "        self.rows = laptops[1:]\n",
    "        \n",
    "        for row in self.rows: # Convert str(price) -> int(price)\n",
    "            row[-1] = int(row[-1])\n",
    "\n",
    "    def detect_encoding(self, csv_filename):\n",
    "        with open(csv_filename, mode=\"rb\") as file:\n",
    "            raw_bytes = file.read()\n",
    "        return chardet.detect(raw_bytes)['encoding']\n"
   ]
  },
  {
   "cell_type": "markdown",
   "metadata": {},
   "source": [
    "### TEST |1| Count inventory"
   ]
  },
  {
   "cell_type": "code",
   "execution_count": 7,
   "metadata": {},
   "outputs": [
    {
     "data": {
      "text/plain": [
       "1303"
      ]
     },
     "execution_count": 7,
     "metadata": {},
     "output_type": "execute_result"
    }
   ],
   "source": [
    "# v0.0 TEST\n",
    "laptops = Inventory(\"laptops.csv\")\n",
    "len(laptops.rows)"
   ]
  },
  {
   "cell_type": "markdown",
   "metadata": {},
   "source": [
    "<br>\n",
    "<br>The very first thing that I want to start off with is querying the laptop by its ID.\n",
    "<br>Seems straight-forward, until its time performance is measured.\n",
    "\n",
    "<h2 id=\"query-laptop-id\"> |2a| Query inventory by ID </h2>\n",
    "<br>Here's a simple way to query the laptop inventory by its ID by scanning the python list:"
   ]
  },
  {
   "cell_type": "code",
   "execution_count": 8,
   "metadata": {},
   "outputs": [],
   "source": [
    "# v0.1\n",
    "class Inventory():\n",
    "    def __init__(self, csv_filename):\n",
    "        self.encoding = self.detect_encoding(csv_filename)\n",
    "        with open(csv_filename, encoding=self.encoding, mode=\"r\") as file:\n",
    "            file_reader = csv.reader(file)\n",
    "            laptops = list(file_reader)\n",
    "\n",
    "        self.header = laptops[0]\n",
    "        self.rows = laptops[1:]\n",
    "        \n",
    "        for row in rows: # Convert str(price) -> int(price)\n",
    "            row[-1] = int(row[-1])\n",
    "\n",
    "    def detect_encoding(self, csv_filename):\n",
    "        with open(csv_filename, mode=\"rb\") as file:\n",
    "            raw_bytes = file.read()\n",
    "        return chardet.detect(raw_bytes)['encoding']\n",
    "\n",
    "    # Query inventory by ID\n",
    "    def get_laptop_from_id(self, laptop_id):\n",
    "        for row in self.rows:\n",
    "            if row[0] == laptop_id:\n",
    "                return row\n",
    "        return None\n"
   ]
  },
  {
   "cell_type": "markdown",
   "metadata": {},
   "source": [
    "### TEST |2a| Query inventory by ID\n",
    "\n",
    "Test if everything works as expected."
   ]
  },
  {
   "cell_type": "code",
   "execution_count": 9,
   "metadata": {},
   "outputs": [
    {
     "name": "stdout",
     "output_type": "stream",
     "text": [
      "ID 3362737 Found ->  ['3362737', 'HP', '250 G6', 'Notebook', '15.6', 'Full HD 1920x1080', 'Intel Core i5 7200U 2.5GHz', '8GB', '256GB SSD', 'Intel HD Graphics 620', 'No OS', '1.86kg', '575']\n",
      "\n",
      "ID 3362736 Found ->  None\n",
      "\n"
     ]
    }
   ],
   "source": [
    "# v0.1 TEST\n",
    "laptops = Inventory(\"laptops.csv\")\n",
    "\n",
    "test_laptop_id = \"3362737\"\n",
    "print(f\"ID {test_laptop_id} Found -> \", laptops.get_laptop_from_id(test_laptop_id))\n",
    "print()\n",
    "\n",
    "test_laptop_id = \"3362736\"\n",
    "print(f\"ID {test_laptop_id} Found -> \", laptops.get_laptop_from_id(test_laptop_id))\n",
    "print()\n"
   ]
  },
  {
   "cell_type": "markdown",
   "metadata": {},
   "source": [
    "<br>\n",
    "\n",
    "## |2b| Query inventory by ID Fast!\n",
    "A faster version of the same task that uses python dictionary:"
   ]
  },
  {
   "cell_type": "code",
   "execution_count": 10,
   "metadata": {},
   "outputs": [],
   "source": [
    "# v0.2\n",
    "class Inventory():\n",
    "    def __init__(self, csv_filename):\n",
    "        self.encoding = self.detect_encoding(csv_filename)\n",
    "        with open(csv_filename, encoding=self.encoding, mode=\"r\") as file:\n",
    "            file_reader = csv.reader(file)\n",
    "            laptops = list(file_reader)\n",
    "\n",
    "        self.header = laptops[0]\n",
    "        self.rows = laptops[1:]\n",
    "\n",
    "        for row in self.rows: # Convert str(price) -> int(price)\n",
    "            row[-1] = int(row[-1])\n",
    "        self.id_to_row = {row[0]:row for row in self.rows}  # Fast fetch with dict!\n",
    "\n",
    "\n",
    "    def detect_encoding(self, csv_filename):\n",
    "        with open(csv_filename, mode=\"rb\") as file:\n",
    "            raw_bytes = file.read()\n",
    "        return chardet.detect(raw_bytes)['encoding']\n",
    "\n",
    "\n",
    "    # Query inventory by ID\n",
    "    def get_laptop_from_id(self, laptop_id):  # O(N)\n",
    "        for row in self.rows:                 # O(N)\n",
    "            if row[0] == laptop_id:           # O(N)\n",
    "                return row                    # 1\n",
    "        return None                           # 1\n",
    "\n",
    "\n",
    "    # Query inventory by ID fast!\n",
    "    def get_laptop_from_id_fast(self, laptop_id):  # O(1)\n",
    "        return self.id_to_row[laptop_id] if laptop_id in self.id_to_row else None  # 1\n",
    "\n",
    "\n",
    "    # Visual Modeling Time Complexity\n",
    "    def plot(self, fig, values, label, color):\n",
    "        plt.plot(values, label=label, figure=fig, color=color)\n",
    "        plt.xlabel(\"N values\")\n",
    "        plt.ylabel(\"Precious Time (s)\")\n",
    "        ax = fig.axes[0]\n",
    "        ax.spines['left'].set_position(('outward', 10))\n",
    "        ax.spines['bottom'].set_position(('outward', 10))\n",
    "        ax.spines['right'].set_visible(False)\n",
    "        ax.spines['top'].set_visible(False)\n",
    "        ax.yaxis.set_ticks_position('left')\n",
    "        ax.xaxis.set_ticks_position('bottom')\n"
   ]
  },
  {
   "cell_type": "markdown",
   "metadata": {},
   "source": [
    "### TEST |2b| Query inventory by ID, Fast!\n",
    "\n",
    "Test if everything works as expected."
   ]
  },
  {
   "cell_type": "code",
   "execution_count": 11,
   "metadata": {},
   "outputs": [
    {
     "name": "stdout",
     "output_type": "stream",
     "text": [
      "ID 3362737 Found ->  ['3362737', 'HP', '250 G6', 'Notebook', '15.6', 'Full HD 1920x1080', 'Intel Core i5 7200U 2.5GHz', '8GB', '256GB SSD', 'Intel HD Graphics 620', 'No OS', '1.86kg', 575]\n",
      "\n",
      "ID 3362736 Found ->  None\n",
      "\n"
     ]
    }
   ],
   "source": [
    "# v0.2 TEST\n",
    "laptops = Inventory(\"laptops.csv\")\n",
    "\n",
    "test_laptop_id = \"3362737\"\n",
    "print(f\"ID {test_laptop_id} Found -> \", laptops.get_laptop_from_id_fast(test_laptop_id))\n",
    "print()\n",
    "\n",
    "test_laptop_id = \"3362736\"\n",
    "print(f\"ID {test_laptop_id} Found -> \", laptops.get_laptop_from_id_fast(test_laptop_id))\n",
    "print()\n"
   ]
  },
  {
   "cell_type": "markdown",
   "metadata": {},
   "source": [
    "<br>\n",
    "\n",
    "## |2a vs 2b| Performance Test"
   ]
  },
  {
   "cell_type": "markdown",
   "metadata": {},
   "source": [
    "Here I will compare the Time complexities of the two fetching methods **`get_laptop_from_id()`** and **`get_laptop_from_id_fast()`** by ***simulating with higher volume of data (about 10 times)*** than the input file."
   ]
  },
  {
   "cell_type": "code",
   "execution_count": 12,
   "metadata": {},
   "outputs": [
    {
     "data": {
      "image/png": "[encoded data removed]",
      "text/plain": [
       "<Figure size 748.8x514.8 with 1 Axes>"
      ]
     },
     "metadata": {
      "needs_background": "light"
     },
     "output_type": "display_data"
    }
   ],
   "source": [
    "# v0.2 Time Complexity\n",
    "\n",
    "ids = [str(random.randint(1_000_000, 9_999_999)) for r in range(10_000)]\n",
    "\n",
    "laptops = Inventory(\"laptops.csv\")\n",
    "\n",
    "total_time_no_dict = []\n",
    "total_time_dict = []\n",
    "\n",
    "for id in ids:\n",
    "    start = time.time()\n",
    "    laptops.get_laptop_from_id(id)\n",
    "    end = time.time()\n",
    "    total_time_no_dict.append(end-start)\n",
    "    \n",
    "    start = time.time()\n",
    "    laptops.get_laptop_from_id_fast(id)\n",
    "    end = time.time()\n",
    "    total_time_dict.append(end-start)\n",
    "\n",
    "\n",
    "plt.style.use(\"seaborn-talk\")\n",
    "fig = plt.figure()\n",
    "laptops.plot(fig, total_time_no_dict, \"- Dict has O(N) Time Complexity\", \"tab:gray\")\n",
    "laptops.plot(fig, total_time_dict, \"+ Dict has O(1) Time Complexity\", \"tab:blue\")\n",
    "plt.legend()\n",
    "plt.show()"
   ]
  },
  {
   "cell_type": "markdown",
   "metadata": {},
   "source": [
    "As you can see, the (without dictionary) `- Dict` line has **O(N) Time Complexity** where N is the number of rows of data from the input file.\n",
    "\n",
    "The (with dictionary) `+ Dict` line has **O(1) Constant-Time Complexity** that's attributed to the use of dictionary that aids in fast querying.\n",
    "<br>\n",
    "<br>\n",
    "\n",
    "### Analysis\n",
    "The dictionary version of query fetch is at least **x30 faster!**"
   ]
  },
  {
   "cell_type": "code",
   "execution_count": 13,
   "metadata": {},
   "outputs": [
    {
     "data": {
      "text/plain": [
       "37.66611473653453"
      ]
     },
     "execution_count": 13,
     "metadata": {},
     "output_type": "execute_result"
    }
   ],
   "source": [
    "sum(total_time_no_dict)/sum(total_time_dict)"
   ]
  },
  {
   "cell_type": "markdown",
   "metadata": {},
   "source": [
    "<br><br>\n",
    "\n",
    "<h2 id=\"2laptops-promotion\"> |3| Two-Laptops Promotion </h2>\n",
    "\n",
    "Now let's consider a scenario where the store offers a promotion to certain customers:\n",
    "\n",
    "1. By way of a $2,500 value gift card.\n",
    "\n",
    "2. It's a one-time use gift card whose balance, if any, will be waived!\n",
    "\n",
    "3. The inventory has only three laptops valued at dollars 1339, 898 and 575.\n",
    "\n",
    "4. And, the customer can buy upto 2 laptops.\n",
    "\n",
    "If I was the customer, I would want to buy 2 laptops with the gift card. The maximum I can spend with the available inventory is 2237 (1339 + 898).\n",
    "<br>\n",
    "If it was you, would you forego the balance? I wouldn't.\n",
    "<br>\n",
    "So, given the amount, here's a function that checks if it's possible to spend all of gift-card value leaving no balance favoring 2 laptops purchase:\n",
    "<br>\n"
   ]
  },
  {
   "cell_type": "markdown",
   "metadata": {},
   "source": [
    "## |3a| Check all of inventory for the laptop combo, looping twice!"
   ]
  },
  {
   "cell_type": "code",
   "execution_count": 14,
   "metadata": {},
   "outputs": [],
   "source": [
    "# v0.3\n",
    "class Inventory():\n",
    "    def __init__(self, csv_filename):\n",
    "        self.encoding = self.detect_encoding(csv_filename)\n",
    "        with open(csv_filename, encoding=self.encoding, mode=\"r\") as file:\n",
    "            file_reader = csv.reader(file)\n",
    "            laptops = list(file_reader)\n",
    "\n",
    "        self.header = laptops[0]\n",
    "        self.rows = laptops[1:]\n",
    "        \n",
    "        for row in self.rows: # Convert str(price) -> int(price)\n",
    "            row[-1] = int(row[-1])\n",
    "        self.id_to_row = {row[0]:row for row in self.rows}  # Fast fetch with dict!\n",
    "\n",
    "\n",
    "    def detect_encoding(self, csv_filename):\n",
    "        with open(csv_filename, mode=\"rb\") as file:\n",
    "            raw_bytes = file.read()\n",
    "        return chardet.detect(raw_bytes)['encoding']\n",
    "\n",
    "\n",
    "    # Query inventory by ID\n",
    "    def get_laptop_from_id(self, laptop_id):  # O(N)\n",
    "        for row in self.rows:                 # O(N)\n",
    "            if row[0] == laptop_id:           # O(N)\n",
    "                return row                    # 1\n",
    "        return None                           # 1\n",
    "\n",
    "\n",
    "    # Query inventory by ID fast!\n",
    "    def get_laptop_from_id_fast(self, laptop_id):  # O(1)\n",
    "        return self.id_to_row[laptop_id] if laptop_id in self.id_to_row else None  # 1\n",
    "\n",
    "\n",
    "    # Visual Modeling Time Complexity\n",
    "    def plot(self, fig, values, label, color):\n",
    "        plt.plot(values, label=label, figure=fig, color=color)\n",
    "        plt.xlabel(\"N values\")\n",
    "        plt.ylabel(\"Precious Time (s)\")\n",
    "        ax = fig.axes[0]\n",
    "        ax.spines['left'].set_position(('outward', 10))\n",
    "        ax.spines['bottom'].set_position(('outward', 10))\n",
    "        ax.spines['right'].set_visible(False)\n",
    "        ax.spines['top'].set_visible(False)\n",
    "        ax.yaxis.set_ticks_position('left')\n",
    "        ax.xaxis.set_ticks_position('bottom')\n",
    "\n",
    "\n",
    "    # Two-laptops promotion\n",
    "    # Check all of inventory for the laptop combo, looping twice!\n",
    "    def check_promotion_dollars(self, dollars):  # O(N^2)\n",
    "        for row in self.rows:                    # O(N)\n",
    "            if row[-1] == dollars:               # O(N)\n",
    "                return True                      # 1\n",
    "        for row in self.rows:                    # O(N)\n",
    "            for r in self.rows:                  # O(N^2)\n",
    "                if r[-1]+row[-1] == dollars:     # O(N^2)\n",
    "                    return True                  # 1\n",
    "        return False                             # 1\n"
   ]
  },
  {
   "cell_type": "markdown",
   "metadata": {},
   "source": [
    "### TEST |3a| Two-laptops promotion\n",
    "\n",
    "Test if everything works as expected."
   ]
  },
  {
   "cell_type": "code",
   "execution_count": 15,
   "metadata": {},
   "outputs": [
    {
     "name": "stdout",
     "output_type": "stream",
     "text": [
      "$1,000 gift card promotion benefit possible?  True\n",
      "$442 gift card promotion benefit possible?  False\n"
     ]
    }
   ],
   "source": [
    "# v0.3 TEST\n",
    "laptops = Inventory(\"laptops.csv\")\n",
    "\n",
    "# True for the given dataset\n",
    "gift_card_value = 1000\n",
    "print(f\"${gift_card_value:,} gift card promotion benefit possible? \",\n",
    "      laptops.check_promotion_dollars(gift_card_value))\n",
    "\n",
    "# False for the given dataset (Worst-case scenario)\n",
    "gift_card_value = 442\n",
    "print(f\"${gift_card_value:,} gift card promotion benefit possible? \", \n",
    "      laptops.check_promotion_dollars(gift_card_value))\n"
   ]
  },
  {
   "cell_type": "markdown",
   "metadata": {},
   "source": [
    "<br>\n",
    "Thinking about looping twice certainly made me restless. This amounts to Quadratic Time Complexity. There is always a better way to do things. Let's tweak this solution and come up with a faster way to detect the combo.\n",
    "<br><br>\n",
    "\n",
    "## |3b| Check all of inventory for the laptop combo, fast!\n",
    "Here, I use `set()`; a simple and quick check is all i need."
   ]
  },
  {
   "cell_type": "code",
   "execution_count": 16,
   "metadata": {},
   "outputs": [],
   "source": [
    "# v0.4\n",
    "class Inventory():\n",
    "    def __init__(self, csv_filename):\n",
    "        self.encoding = self.detect_encoding(csv_filename)\n",
    "        with open(csv_filename, encoding=self.encoding, mode=\"r\") as file:\n",
    "            file_reader = csv.reader(file)\n",
    "            laptops = list(file_reader)\n",
    "\n",
    "        self.header = laptops[0]\n",
    "        self.rows = laptops[1:]\n",
    "\n",
    "        for row in self.rows: # Convert str(price) -> int(price)\n",
    "            row[-1] = int(row[-1])\n",
    "        self.id_to_row = {row[0]:row for row in self.rows}  # Fast fetch with dict!\n",
    "        self.prices = set(row[-1] for row in self.rows)  # Fast detect price with set()\n",
    "\n",
    "    def detect_encoding(self, csv_filename):\n",
    "        with open(csv_filename, mode=\"rb\") as file:\n",
    "            raw_bytes = file.read()\n",
    "        return chardet.detect(raw_bytes)['encoding']\n",
    "\n",
    "    # Query inventory by ID\n",
    "    def get_laptop_from_id(self, laptop_id):  # O(N)\n",
    "        for row in self.rows:                 # O(N)\n",
    "            if row[0] == laptop_id:           # O(N)\n",
    "                return row                    # 1\n",
    "        return None                           # 1\n",
    "\n",
    "\n",
    "    # Query inventory by ID fast!\n",
    "    def get_laptop_from_id_fast(self, laptop_id):  # O(1)\n",
    "        return self.id_to_row[laptop_id] if laptop_id in self.id_to_row else None  # 1\n",
    "\n",
    "\n",
    "    # Visual Modeling Time Complexity\n",
    "    def plot(self, fig, values, label, color):\n",
    "        plt.plot(values, label=label, figure=fig, color=color)\n",
    "        plt.xlabel(\"N values\")\n",
    "        plt.ylabel(\"Precious Time (s)\")\n",
    "        ax = fig.axes[0]\n",
    "        ax.spines['left'].set_position(('outward', 10))\n",
    "        ax.spines['bottom'].set_position(('outward', 10))\n",
    "        ax.spines['right'].set_visible(False)\n",
    "        ax.spines['top'].set_visible(False)\n",
    "        ax.yaxis.set_ticks_position('left')\n",
    "        ax.xaxis.set_ticks_position('bottom')\n",
    "\n",
    "\n",
    "    # Two-laptops promotion\n",
    "    # Check all of inventory for the laptop combo, looping twice!\n",
    "    def check_promotion_dollars(self, dollars):  # O(N^2)\n",
    "        for row in self.rows:                    # O(N)\n",
    "            if row[-1] == dollars:               # O(N)\n",
    "                return True                      # 1\n",
    "        for row in self.rows:                    # O(N)\n",
    "            for r in self.rows:                  # O(N^2)\n",
    "                if r[-1]+row[-1] == dollars:     # O(N^2)\n",
    "                    return True                  # 1\n",
    "        return False                             # 1\n",
    "\n",
    "\n",
    "    # Two-laptops promotion\n",
    "    # Check all of inventory for the laptop combo, fast!\n",
    "    def check_promotion_dollars_fast(self, dollars):  # O(N)\n",
    "        if dollars in self.prices:                    # 1\n",
    "            return True                               # 1\n",
    "        for price in self.prices:                     # O(N)\n",
    "            if dollars-price in self.prices:          # O(N)\n",
    "                return True                           # 1\n",
    "        return False                                  # 1\n"
   ]
  },
  {
   "cell_type": "markdown",
   "metadata": {},
   "source": [
    "### TEST |3b| Two-laptops promotion\n",
    "\n",
    "Test if everything works as expected."
   ]
  },
  {
   "cell_type": "code",
   "execution_count": 17,
   "metadata": {},
   "outputs": [
    {
     "name": "stdout",
     "output_type": "stream",
     "text": [
      "$1,000 gift card promotion benefit possible?  True\n",
      "$442 gift card promotion benefit possible?  False\n"
     ]
    }
   ],
   "source": [
    "# v0.4 TEST\n",
    "laptops = Inventory(\"laptops.csv\")\n",
    "\n",
    "# True for the given dataset\n",
    "gift_card_value = 1000\n",
    "print(f\"${gift_card_value:,} gift card promotion benefit possible? \",\n",
    "      laptops.check_promotion_dollars_fast(gift_card_value))\n",
    "\n",
    "# False for the given dataset (Worst-case scenario)\n",
    "gift_card_value = 442\n",
    "print(f\"${gift_card_value:,} gift card promotion benefit possible? \",\n",
    "      laptops.check_promotion_dollars_fast(gift_card_value))\n"
   ]
  },
  {
   "cell_type": "markdown",
   "metadata": {},
   "source": [
    "<br>\n",
    "\n",
    "## |3a vs 3b| Performance Test"
   ]
  },
  {
   "cell_type": "markdown",
   "metadata": {},
   "source": [
    "Here I will compare the Time complexities of the two querying methods **`check_promotion_dollars()`** and **`check_promotion_dollars_fast()`** by ***simulating with 5 times more data*** than the input file."
   ]
  },
  {
   "cell_type": "code",
   "execution_count": 18,
   "metadata": {},
   "outputs": [
    {
     "data": {
      "image/png": "[encoded data removed]",
      "text/plain": [
       "<Figure size 748.8x514.8 with 1 Axes>"
      ]
     },
     "metadata": {
      "needs_background": "light"
     },
     "output_type": "display_data"
    }
   ],
   "source": [
    "# v0.4 Time Complexity\n",
    "\n",
    "prices = [random.randint(100, 5_000) for r in range(100)]\n",
    "laptops = Inventory(\"laptops.csv\")\n",
    "\n",
    "total_time_no_set = []\n",
    "total_time_set = []\n",
    "\n",
    "for price in prices:\n",
    "    start = time.time()\n",
    "    laptops.check_promotion_dollars(price)\n",
    "    end = time.time()\n",
    "    total_time_no_set.append(end-start)\n",
    "    \n",
    "    start = time.time()\n",
    "    laptops.check_promotion_dollars_fast(price)\n",
    "    end = time.time()\n",
    "    total_time_set.append(end-start)\n",
    "\n",
    "plt.style.use(\"seaborn-talk\")\n",
    "fig = plt.figure()\n",
    "laptops.plot(fig, total_time_no_set, \"- Set has O(N^2) Time Complexity\", \"tab:gray\")\n",
    "laptops.plot(fig, total_time_set, \"+ Set has O(N) Time Complexity\", \"tab:blue\")\n",
    "plt.legend()\n",
    "plt.show()"
   ]
  },
  {
   "cell_type": "markdown",
   "metadata": {},
   "source": [
    "The time-line for the faster query looks flat (almost constant time) on a shared plot.\n",
    "<br>\n",
    "To see the minor variations, here's the plot:"
   ]
  },
  {
   "cell_type": "code",
   "execution_count": 19,
   "metadata": {},
   "outputs": [
    {
     "data": {
      "image/png": "[encoded data removed]",
      "text/plain": [
       "<Figure size 748.8x514.8 with 1 Axes>"
      ]
     },
     "metadata": {
      "needs_background": "light"
     },
     "output_type": "display_data"
    }
   ],
   "source": [
    "# v0.4 Time Complexity\n",
    "\n",
    "plt.style.use(\"seaborn-talk\")\n",
    "fig = plt.figure()\n",
    "laptops.plot(fig, total_time_set, \"+ Set has O(N) Time Complexity\", \"tab:blue\")\n",
    "plt.legend()\n",
    "plt.show()"
   ]
  },
  {
   "cell_type": "markdown",
   "metadata": {},
   "source": [
    "<br>\n",
    "\n",
    "### Analysis\n",
    "It's certainly not constant, but linear. But the **performance gain is at least x1000!**\n",
    "<br>See below:"
   ]
  },
  {
   "cell_type": "code",
   "execution_count": 20,
   "metadata": {},
   "outputs": [
    {
     "data": {
      "text/plain": [
       "1241.4249783174328"
      ]
     },
     "execution_count": 20,
     "metadata": {},
     "output_type": "execute_result"
    }
   ],
   "source": [
    "sum(total_time_no_set)/sum(total_time_set)"
   ]
  },
  {
   "cell_type": "markdown",
   "metadata": {},
   "source": [
    "<br><br>\n",
    "\n",
    "<h2 id=\"within-budget\"> |4| Laptops with-in budget </h2>\n",
    "\n",
    "Now let's say I want to know what laptops are available that are lesser than a target price (my max budget). A laptop with the target price may exist or not. If it doesn't, I have to find all laptops whose price is at most the `target price`, for which I have to **query for the first laptop whose price is more than my `target price`** if the exact target price doesn't exist in the inventory.\n",
    "<br><br>One efficient strategy to enable this is to sort the inventory by price (**a O(N) time price to pay**) to find the index of the first laptop that is at most the target price."
   ]
  },
  {
   "cell_type": "code",
   "execution_count": 21,
   "metadata": {},
   "outputs": [],
   "source": [
    "# v0.5\n",
    "class Inventory():\n",
    "    \n",
    "    def __init__(self, csv_filename):\n",
    "        self.encoding = self.detect_encoding(csv_filename)\n",
    "        with open(csv_filename, encoding=self.encoding, mode=\"r\") as file:\n",
    "            file_reader = csv.reader(file)\n",
    "            laptops = list(file_reader)\n",
    "\n",
    "        self.header = laptops[0]\n",
    "        self.rows = laptops[1:]\n",
    "\n",
    "        for row in self.rows: # Convert str(price) -> int(price)\n",
    "            row[-1] = int(row[-1])\n",
    "        self.id_to_row = {row[0]:row for row in self.rows}  # Fast fetch with dict!\n",
    "        self.prices = set(row[-1] for row in self.rows)  # Fast detect price with set()!\n",
    "        self.rows_by_price = sorted(self.rows, key=lambda row: row[-1])  # Sorted price for quick fetch! O(N)\n",
    "\n",
    "        \n",
    "    def detect_encoding(self, csv_filename):\n",
    "        with open(csv_filename, mode=\"rb\") as file:\n",
    "            raw_bytes = file.read()\n",
    "        return chardet.detect(raw_bytes)['encoding']\n",
    "\n",
    "    \n",
    "    # Query inventory by ID\n",
    "    def get_laptop_from_id(self, laptop_id):  # O(N)\n",
    "        for row in self.rows:                 # O(N)\n",
    "            if row[0] == laptop_id:           # O(N)\n",
    "                return row                    # 1\n",
    "        return None                           # 1\n",
    "\n",
    "\n",
    "    # Query inventory by ID fast!\n",
    "    def get_laptop_from_id_fast(self, laptop_id):  # O(1)\n",
    "        return self.id_to_row[laptop_id] if laptop_id in self.id_to_row else None  # 1\n",
    "\n",
    "\n",
    "    # Visual Modeling Time Complexity\n",
    "    def plot(self, fig, values, label, color):\n",
    "        plt.plot(values, label=label, figure=fig, color=color)\n",
    "        plt.xlabel(\"N values\")\n",
    "        plt.ylabel(\"Precious Time (s)\")\n",
    "        ax = fig.axes[0]\n",
    "        ax.spines['left'].set_position(('outward', 10))\n",
    "        ax.spines['bottom'].set_position(('outward', 10))\n",
    "        ax.spines['right'].set_visible(False)\n",
    "        ax.spines['top'].set_visible(False)\n",
    "        ax.yaxis.set_ticks_position('left')\n",
    "        ax.xaxis.set_ticks_position('bottom')\n",
    "\n",
    "\n",
    "    # Two-laptops promotion\n",
    "    # Check all of inventory for the laptop combo, looping twice!\n",
    "    def check_promotion_dollars(self, dollars):  # O(N^2)\n",
    "        for row in self.rows:                    # O(N)\n",
    "            if row[-1] == dollars:               # O(N)\n",
    "                return True                      # 1\n",
    "        for row in self.rows:                    # O(N)\n",
    "            for r in self.rows:                  # O(N^2)\n",
    "                if r[-1]+row[-1] == dollars:     # O(N^2)\n",
    "                    return True                  # 1\n",
    "        return False                             # 1\n",
    "\n",
    "\n",
    "    # Two-laptops promotion\n",
    "    # Check all of inventory for the laptop combo, fast!\n",
    "    def check_promotion_dollars_fast(self, dollars):  # O(N)\n",
    "        if dollars in self.prices:                    # 1\n",
    "            return True                               # 1\n",
    "        for price in self.prices:                     # O(N)\n",
    "            if dollars-price in self.prices:          # O(N)\n",
    "                return True                           # 1\n",
    "        return False                                  # 1\n",
    "    \n",
    "    \n",
    "    # Binary Search: O(log(N))\n",
    "    def find_first_laptop_more_expensive(self, target_price):\n",
    "        range_start = 0\n",
    "        range_end = len(self.rows_by_price) - 1\n",
    "        while range_start < range_end:\n",
    "            range_middle = (range_start + range_end) // 2  # O(log(N)) as search space is halved each iteration.\n",
    "            price = self.rows_by_price[range_middle][-1]\n",
    "            if price <= target_price:\n",
    "                range_start = range_middle + 1\n",
    "            else:\n",
    "                range_end = range_middle\n",
    "\n",
    "        if self.rows_by_price[range_start][-1] <= target_price:\n",
    "            return -1\n",
    "        return range_start\n"
   ]
  },
  {
   "cell_type": "markdown",
   "metadata": {},
   "source": [
    "### TEST |4| Laptops with-in budget"
   ]
  },
  {
   "cell_type": "code",
   "execution_count": 22,
   "metadata": {},
   "outputs": [
    {
     "name": "stdout",
     "output_type": "stream",
     "text": [
      "Target price (budget=1,000); Index at 683\n",
      "Target price (budget=10,000); All with-in budget!\n"
     ]
    }
   ],
   "source": [
    "# v0.5 TEST\n",
    "laptops = Inventory(\"laptops.csv\")\n",
    "\n",
    "# True for the given dataset\n",
    "target_price = 1_000\n",
    "print(f\"Target price (budget={target_price:,});\",\n",
    "      (\"All with-in budget!\"\n",
    "          if (i:=laptops.find_first_laptop_more_expensive(target_price)) == -1 \n",
    "          else \"\".join([\"Index at \", str(i)])))\n",
    "\n",
    "# False for the given dataset (Worst-case scenario)\n",
    "target_price = 10_000\n",
    "print(f\"Target price (budget={target_price:,});\",\n",
    "      (\"All with-in budget!\"\n",
    "          if (i:=laptops.find_first_laptop_more_expensive(target_price)) == -1 \n",
    "          else \"\".join([\"Index at \", str(i)])))\n"
   ]
  },
  {
   "cell_type": "markdown",
   "metadata": {},
   "source": [
    "### Analysis\n",
    "The overall time complexity for this search termed **Binary Search is O(N)**.\n",
    "<br>This is because, ***O(N) for the price sorting** + **O(log(N)) for the Binary Search*** yeilds **O(N + log(N))** Time.\n",
    "<br>Aligning this with Algorithm Time modeling terms, the most significant term is O(N) and the lesser significant term is O(log(N)).\n",
    "<br>We go with only the most significant term, O(N)."
   ]
  },
  {
   "cell_type": "markdown",
   "metadata": {},
   "source": [
    "# Conclusion\n",
    "A faster algorithm that finds the right balance between Time and Space complexities is worth the time investment especially where search is involved.\n",
    "<br>**A stitch in time saves nine!**\n",
    "<br>There's more to build depending on the business need. For now, it's the above three.\n"
   ]
  }
 ],
 "metadata": {
  "kernelspec": {
   "display_name": "Python 3",
   "language": "python",
   "name": "python3"
  },
  "language_info": {
   "codemirror_mode": {
    "name": "ipython",
    "version": 3
   },
   "file_extension": ".py",
   "mimetype": "text/x-python",
   "name": "python",
   "nbconvert_exporter": "python",
   "pygments_lexer": "ipython3",
   "version": "3.9.0"
  }
 },
 "nbformat": 4,
 "nbformat_minor": 2
}
